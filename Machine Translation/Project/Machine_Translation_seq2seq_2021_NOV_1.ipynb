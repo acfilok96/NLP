{
  "nbformat": 4,
  "nbformat_minor": 0,
  "metadata": {
    "colab": {
      "name": "Machine_Translation_seq2seq_2021_NOV_1.ipynb",
      "provenance": [],
      "collapsed_sections": []
    },
    "kernelspec": {
      "name": "python3",
      "display_name": "Python 3"
    },
    "accelerator": "GPU"
  },
  "cells": [
    {
      "cell_type": "code",
      "metadata": {
        "id": "CRgcF7PlWFsl"
      },
      "source": [
        "# official webpage :- https://machinelearningmastery.com/define-encoder-decoder-sequence-sequence-model-neural-machine-translation-keras/"
      ],
      "execution_count": 1,
      "outputs": []
    },
    {
      "cell_type": "code",
      "metadata": {
        "id": "mz3IcaqKj86y",
        "colab": {
          "base_uri": "https://localhost:8080/"
        },
        "outputId": "48e88317-47b9-44d5-cced-f3d827ecbcb8"
      },
      "source": [
        "!wget http://www.manythings.org/anki/fra-eng.zip"
      ],
      "execution_count": 2,
      "outputs": [
        {
          "output_type": "stream",
          "name": "stdout",
          "text": [
            "--2021-11-01 13:35:35--  http://www.manythings.org/anki/fra-eng.zip\n",
            "Resolving www.manythings.org (www.manythings.org)... 104.21.92.44, 172.67.186.54, 2606:4700:3033::ac43:ba36, ...\n",
            "Connecting to www.manythings.org (www.manythings.org)|104.21.92.44|:80... connected.\n",
            "HTTP request sent, awaiting response... 200 OK\n",
            "Length: 6451478 (6.2M) [application/zip]\n",
            "Saving to: ‘fra-eng.zip’\n",
            "\n",
            "\rfra-eng.zip           0%[                    ]       0  --.-KB/s               \rfra-eng.zip         100%[===================>]   6.15M  --.-KB/s    in 0.08s   \n",
            "\n",
            "2021-11-01 13:35:36 (75.0 MB/s) - ‘fra-eng.zip’ saved [6451478/6451478]\n",
            "\n"
          ]
        }
      ]
    },
    {
      "cell_type": "code",
      "metadata": {
        "id": "5rQA-peHkpcd",
        "colab": {
          "base_uri": "https://localhost:8080/"
        },
        "outputId": "ce74ced6-29f6-4ae2-8b1a-e673282f22b0"
      },
      "source": [
        "!unzip fra-eng.zip"
      ],
      "execution_count": 3,
      "outputs": [
        {
          "output_type": "stream",
          "name": "stdout",
          "text": [
            "Archive:  fra-eng.zip\n",
            "  inflating: _about.txt              \n",
            "  inflating: fra.txt                 \n"
          ]
        }
      ]
    },
    {
      "cell_type": "code",
      "metadata": {
        "id": "zK7ejF4OlPxy"
      },
      "source": [
        "text_path = '/content/fra.txt'"
      ],
      "execution_count": 4,
      "outputs": []
    },
    {
      "cell_type": "code",
      "metadata": {
        "id": "68non1h7gcy4",
        "colab": {
          "base_uri": "https://localhost:8080/"
        },
        "outputId": "01a36f9b-aa46-4e9e-ef39-fa6f240c27c7"
      },
      "source": [
        "%tensorflow_version 2.x\n",
        "import tensorflow as tf\n",
        "device_name = tf.test.gpu_device_name()\n",
        "print(device_name)\n",
        "with tf.device(device_name):\n",
        "  pass"
      ],
      "execution_count": 5,
      "outputs": [
        {
          "output_type": "stream",
          "name": "stdout",
          "text": [
            "/device:GPU:0\n"
          ]
        }
      ]
    },
    {
      "cell_type": "code",
      "metadata": {
        "id": "t9v20PCakbXV",
        "colab": {
          "base_uri": "https://localhost:8080/"
        },
        "outputId": "2279086e-ff90-4bcb-e292-0c77606ae71a"
      },
      "source": [
        "text = open(text_path, 'r').read()\n",
        "engilsh_text,french_text = [],[]\n",
        "k=0\n",
        "for i in text.split('\\n'):\n",
        "  i = i.split('CC-BY')[0]\n",
        "  i = i.split('\\t')\n",
        "  if len(i)<2:\n",
        "    print(k,i)\n",
        "  if len(i)>2:\n",
        "    engilsh_text.append(i[0])\n",
        "    french_text.append(i[1])\n",
        "    #print(i[0],'\\t\\t',i[1])\n",
        "  k+=1\n",
        "print(k)"
      ],
      "execution_count": 6,
      "outputs": [
        {
          "output_type": "stream",
          "name": "stdout",
          "text": [
            "190206 ['']\n",
            "190207\n"
          ]
        }
      ]
    },
    {
      "cell_type": "code",
      "metadata": {
        "id": "j8jSIn2Bkb8a",
        "colab": {
          "base_uri": "https://localhost:8080/"
        },
        "outputId": "f7192a91-ab28-40c1-c270-939606a56b6d"
      },
      "source": [
        "print(len(engilsh_text),len(french_text))\n",
        "print(engilsh_text[178008])\n",
        "print(french_text[178008])"
      ],
      "execution_count": 7,
      "outputs": [
        {
          "output_type": "stream",
          "name": "stdout",
          "text": [
            "190206 190206\n",
            "I'd be depressed if they asked me to quit the team.\n",
            "Je serais déprimé s'ils me demandaient de quitter l'équipe.\n"
          ]
        }
      ]
    },
    {
      "cell_type": "code",
      "metadata": {
        "id": "XAAieuRSkktA",
        "colab": {
          "base_uri": "https://localhost:8080/"
        },
        "outputId": "75de792b-98f5-4eba-d43f-2ecf07ebfd31"
      },
      "source": [
        "def split(a,b):\n",
        "  for i,j in zip(a,b):\n",
        "\n",
        "    p1,p2=[],[]\n",
        "    for k1 in i:\n",
        "      if k1 == '':\n",
        "        p1.append(k1)\n",
        "      elif len(k1)>0:\n",
        "        for kk1 in k1:\n",
        "          p1.append(kk1)\n",
        "  \n",
        "    for k2 in j:\n",
        "      if k2 == '':\n",
        "        p2.append(k2)\n",
        "      elif len(k2)>0:\n",
        "        for kk2 in k2:\n",
        "          p2.append(kk2)\n",
        "    yield p1,p2\n",
        "\n",
        "k=0\n",
        "for i,j in zip(engilsh_text,french_text):\n",
        "  print(i,j)\n",
        "  k+=1\n",
        "  if k==10:\n",
        "    break\n",
        "\n",
        "  \n",
        "k1=0\n",
        "for i,j in split(engilsh_text,french_text):\n",
        "  print(i,j)\n",
        "  k1+=1\n",
        "  if k1==10:\n",
        "    break"
      ],
      "execution_count": 8,
      "outputs": [
        {
          "output_type": "stream",
          "name": "stdout",
          "text": [
            "Go. Va !\n",
            "Go. Marche.\n",
            "Go. Bouge !\n",
            "Hi. Salut !\n",
            "Hi. Salut.\n",
            "Run! Cours !\n",
            "Run! Courez !\n",
            "Run! Prenez vos jambes à vos cous !\n",
            "Run! File !\n",
            "Run! Filez !\n",
            "['G', 'o', '.'] ['V', 'a', ' ', '!']\n",
            "['G', 'o', '.'] ['M', 'a', 'r', 'c', 'h', 'e', '.']\n",
            "['G', 'o', '.'] ['B', 'o', 'u', 'g', 'e', ' ', '!']\n",
            "['H', 'i', '.'] ['S', 'a', 'l', 'u', 't', ' ', '!']\n",
            "['H', 'i', '.'] ['S', 'a', 'l', 'u', 't', '.']\n",
            "['R', 'u', 'n', '!'] ['C', 'o', 'u', 'r', 's', '\\u202f', '!']\n",
            "['R', 'u', 'n', '!'] ['C', 'o', 'u', 'r', 'e', 'z', '\\u202f', '!']\n",
            "['R', 'u', 'n', '!'] ['P', 'r', 'e', 'n', 'e', 'z', ' ', 'v', 'o', 's', ' ', 'j', 'a', 'm', 'b', 'e', 's', ' ', 'à', ' ', 'v', 'o', 's', ' ', 'c', 'o', 'u', 's', ' ', '!']\n",
            "['R', 'u', 'n', '!'] ['F', 'i', 'l', 'e', ' ', '!']\n",
            "['R', 'u', 'n', '!'] ['F', 'i', 'l', 'e', 'z', ' ', '!']\n"
          ]
        }
      ]
    },
    {
      "cell_type": "code",
      "metadata": {
        "id": "XIIZ1DMgkkyB",
        "colab": {
          "base_uri": "https://localhost:8080/"
        },
        "outputId": "184b11b3-650c-41a8-fe38-febb664ada7a"
      },
      "source": [
        "# taking number of data\n",
        "eng_int = int(input('enter data limit (10 to 178008) :- '))\n",
        "french_text_split,english_text_split = [],[]\n",
        "for a,b in split(engilsh_text[:eng_int],french_text[:eng_int]):\n",
        "  english_text_split.append(a)\n",
        "  french_text_split.append(b)"
      ],
      "execution_count": 9,
      "outputs": [
        {
          "name": "stdout",
          "output_type": "stream",
          "text": [
            "enter data limit (10 to 178008) :- 100\n"
          ]
        }
      ]
    },
    {
      "cell_type": "code",
      "metadata": {
        "id": "Kuwu9m5Rkkqc",
        "colab": {
          "base_uri": "https://localhost:8080/"
        },
        "outputId": "6ca77917-ac19-4c8b-db76-4b7154e11e6f"
      },
      "source": [
        "english_text_split_revised=[]\n",
        "for i in english_text_split:\n",
        "  p='aaa'\n",
        "  q='bbb'\n",
        "  l=[]\n",
        "  l.append(p)\n",
        "  for k in i:\n",
        "    l.append(k)\n",
        "  l.append(q)\n",
        "  english_text_split_revised.append(l)\n",
        "\n",
        "  \n",
        "kkk=0\n",
        "for i in english_text_split_revised:\n",
        "  kkk+=1\n",
        "  print(i)\n",
        "  if kkk==5:\n",
        "    break"
      ],
      "execution_count": 10,
      "outputs": [
        {
          "output_type": "stream",
          "name": "stdout",
          "text": [
            "['aaa', 'G', 'o', '.', 'bbb']\n",
            "['aaa', 'G', 'o', '.', 'bbb']\n",
            "['aaa', 'G', 'o', '.', 'bbb']\n",
            "['aaa', 'H', 'i', '.', 'bbb']\n",
            "['aaa', 'H', 'i', '.', 'bbb']\n"
          ]
        }
      ]
    },
    {
      "cell_type": "code",
      "metadata": {
        "id": "EkzjJu8kRJpP",
        "colab": {
          "base_uri": "https://localhost:8080/"
        },
        "outputId": "63664336-d2d2-4fec-b20a-0605da77f2b6"
      },
      "source": [
        "aka=0\n",
        "for i,j in zip(french_text_split, english_text_split_revised):\n",
        "  print(i,'\\t-->\\t',j)\n",
        "  aka=aka+1\n",
        "  if(aka==5):\n",
        "    break"
      ],
      "execution_count": 11,
      "outputs": [
        {
          "output_type": "stream",
          "name": "stdout",
          "text": [
            "['V', 'a', ' ', '!'] \t-->\t ['aaa', 'G', 'o', '.', 'bbb']\n",
            "['M', 'a', 'r', 'c', 'h', 'e', '.'] \t-->\t ['aaa', 'G', 'o', '.', 'bbb']\n",
            "['B', 'o', 'u', 'g', 'e', ' ', '!'] \t-->\t ['aaa', 'G', 'o', '.', 'bbb']\n",
            "['S', 'a', 'l', 'u', 't', ' ', '!'] \t-->\t ['aaa', 'H', 'i', '.', 'bbb']\n",
            "['S', 'a', 'l', 'u', 't', '.'] \t-->\t ['aaa', 'H', 'i', '.', 'bbb']\n"
          ]
        }
      ]
    },
    {
      "cell_type": "code",
      "metadata": {
        "id": "vGwiFiwRstym",
        "colab": {
          "base_uri": "https://localhost:8080/"
        },
        "outputId": "70f77d4c-a8e1-474b-f744-7297b8d6a134"
      },
      "source": [
        "import numpy as np\n",
        "print(np.array(french_text_split).shape)\n",
        "print(np.array(english_text_split_revised).shape)"
      ],
      "execution_count": 12,
      "outputs": [
        {
          "output_type": "stream",
          "name": "stdout",
          "text": [
            "(100,)\n",
            "(100,)\n"
          ]
        },
        {
          "output_type": "stream",
          "name": "stderr",
          "text": [
            "/usr/local/lib/python3.7/dist-packages/ipykernel_launcher.py:2: VisibleDeprecationWarning: Creating an ndarray from ragged nested sequences (which is a list-or-tuple of lists-or-tuples-or ndarrays with different lengths or shapes) is deprecated. If you meant to do this, you must specify 'dtype=object' when creating the ndarray\n",
            "  \n",
            "/usr/local/lib/python3.7/dist-packages/ipykernel_launcher.py:3: VisibleDeprecationWarning: Creating an ndarray from ragged nested sequences (which is a list-or-tuple of lists-or-tuples-or ndarrays with different lengths or shapes) is deprecated. If you meant to do this, you must specify 'dtype=object' when creating the ndarray\n",
            "  This is separate from the ipykernel package so we can avoid doing imports until\n"
          ]
        }
      ]
    },
    {
      "cell_type": "code",
      "metadata": {
        "id": "Tz6kPwRRqVRq",
        "colab": {
          "base_uri": "https://localhost:8080/",
          "height": 35
        },
        "outputId": "348b3c24-3d50-4dec-fe40-a854d96c708f"
      },
      "source": [
        "'''\n",
        "import tensorflow as tf\n",
        "device_name = tf.test.gpu_device_name()\n",
        "with tf.device(device_name):\n",
        "  print(device_name)\n",
        "'''"
      ],
      "execution_count": 13,
      "outputs": [
        {
          "output_type": "execute_result",
          "data": {
            "application/vnd.google.colaboratory.intrinsic+json": {
              "type": "string"
            },
            "text/plain": [
              "'\\nimport tensorflow as tf\\ndevice_name = tf.test.gpu_device_name()\\nwith tf.device(device_name):\\n  print(device_name)\\n'"
            ]
          },
          "metadata": {},
          "execution_count": 13
        }
      ]
    },
    {
      "cell_type": "code",
      "metadata": {
        "id": "GLD2ORrvYf-7"
      },
      "source": [
        "from keras.preprocessing.text import Tokenizer, text_to_word_sequence\n",
        "from keras.preprocessing.sequence import pad_sequences\n",
        "from tensorflow.keras.utils import to_categorical"
      ],
      "execution_count": 14,
      "outputs": []
    },
    {
      "cell_type": "code",
      "metadata": {
        "id": "WzNFcFPPqOGS"
      },
      "source": [
        "with tf.device(device_name):\n",
        "\n",
        "  tokenizer_french = Tokenizer()\n",
        "  tokenizer_french.fit_on_texts(french_text_split)\n",
        "  french_token = tokenizer_french.texts_to_sequences(french_text_split)\n",
        "  maxlen_french = max([max(i) for i in french_token])\n",
        "  pad_sequence_french = pad_sequences(french_token, maxlen=maxlen_french+1)\n",
        "\n",
        "\n",
        "  tokenizer_english = Tokenizer()\n",
        "  tokenizer_english.fit_on_texts(english_text_split_revised)\n",
        "  english_token = tokenizer_english.texts_to_sequences(english_text_split_revised)\n",
        "  maxlen_english = max([max(i) for i in english_token])\n",
        "  \n",
        "  x_1_train, x_2_train = [],[]\n",
        "  y_train = []\n",
        "  for j in range(len(english_token)):\n",
        "    seq = english_token[j]\n",
        "    ph  = pad_sequence_french[j]\n",
        "    for i in range(1,len(seq)):\n",
        "      in_seq , out_seq = seq[:i], seq[i]\n",
        "      in_seq = pad_sequences([in_seq], maxlen=maxlen_english+1)[0]\n",
        "      out_seq = to_categorical([out_seq], num_classes=maxlen_english+1)[0]\n",
        "      x_1_train.append(ph)\n",
        "      x_2_train.append(in_seq)\n",
        "      y_train.append(out_seq)"
      ],
      "execution_count": 15,
      "outputs": []
    },
    {
      "cell_type": "code",
      "metadata": {
        "colab": {
          "base_uri": "https://localhost:8080/"
        },
        "id": "vCSRO9DOYtY1",
        "outputId": "0ed3070a-b4a6-467d-cedc-d0a4a6d4f25c"
      },
      "source": [
        "## Visualise the things happeing to reschdule the data set.\n",
        "\n",
        "print(\"Maximum length of English string: \",maxlen_english)\n",
        "print(\"Maximum length of French string: \",maxlen_french,'\\n')\n",
        "print(\"*\"*100,'\\n')\n",
        "\n",
        "print(\"Maximum Lenghth of In Sequence i.e. in Pad Sequence is Maxlen_english + 1\")\n",
        "print(\"Maximum Lenghth of Out Sequence i.e. in Categorial is Maxlen_english + 1\",'\\n')\n",
        "print(\"*\"*100,'\\n')\n",
        "\n",
        "\n",
        "for j in range(1):\n",
        "  seq = english_token[j]\n",
        "  print(\"\\nEnglish string: \",seq,'\\n')\n",
        "  ph  = pad_sequence_french[j]\n",
        "  print(\"\\nFrench pad sequence: \",ph,'\\n')\n",
        "  print(\"-\"*100)\n",
        "  print(\"*\"*100)\n",
        "  print(\"-\"*100,'\\n')\n",
        "  for i in range(1,len(seq)):\n",
        "    print(i,'---->---->----->----->----->---->---->\\n')\n",
        "    print(\"\\nFrench pad sequence: \",ph,'\\n')\n",
        "    in_seq , out_seq = seq[:i], seq[i]\n",
        "    print(\"\\nEnglish In sequence: \",in_seq,'\\n')\n",
        "    print(\"\\nEnglish out sequence: \",out_seq,'\\n')\n",
        "    in_seq = pad_sequences([in_seq], maxlen=maxlen_english+1)[0]\n",
        "    out_seq = to_categorical([out_seq], num_classes=maxlen_english+1)[0]\n",
        "    print(\"\\nEnglish In Sequence(pad sequence): \",in_seq,'\\n')\n",
        "    print(\"\\nEnglish Out Sequence(categorical): \",out_seq,'\\n')\n",
        "    print(\"*\"*100)"
      ],
      "execution_count": 16,
      "outputs": [
        {
          "output_type": "stream",
          "name": "stdout",
          "text": [
            "Maximum length of English string:  29\n",
            "Maximum length of French string:  40 \n",
            "\n",
            "**************************************************************************************************** \n",
            "\n",
            "Maximum Lenghth of In Sequence i.e. in Pad Sequence is Maxlen_english + 1\n",
            "Maximum Lenghth of Out Sequence i.e. in Categorial is Maxlen_english + 1 \n",
            "\n",
            "**************************************************************************************************** \n",
            "\n",
            "\n",
            "English string:  [1, 14, 7, 3, 2] \n",
            "\n",
            "\n",
            "French pad sequence:  [ 0  0  0  0  0  0  0  0  0  0  0  0  0  0  0  0  0  0  0  0  0  0  0  0\n",
            "  0  0  0  0  0  0  0  0  0  0  0  0  0 20  3  2  5] \n",
            "\n",
            "----------------------------------------------------------------------------------------------------\n",
            "****************************************************************************************************\n",
            "---------------------------------------------------------------------------------------------------- \n",
            "\n",
            "1 ---->---->----->----->----->---->---->\n",
            "\n",
            "\n",
            "French pad sequence:  [ 0  0  0  0  0  0  0  0  0  0  0  0  0  0  0  0  0  0  0  0  0  0  0  0\n",
            "  0  0  0  0  0  0  0  0  0  0  0  0  0 20  3  2  5] \n",
            "\n",
            "\n",
            "English In sequence:  [1] \n",
            "\n",
            "\n",
            "English out sequence:  14 \n",
            "\n",
            "\n",
            "English In Sequence(pad sequence):  [0 0 0 0 0 0 0 0 0 0 0 0 0 0 0 0 0 0 0 0 0 0 0 0 0 0 0 0 0 1] \n",
            "\n",
            "\n",
            "English Out Sequence(categorical):  [0. 0. 0. 0. 0. 0. 0. 0. 0. 0. 0. 0. 0. 0. 1. 0. 0. 0. 0. 0. 0. 0. 0. 0.\n",
            " 0. 0. 0. 0. 0. 0.] \n",
            "\n",
            "****************************************************************************************************\n",
            "2 ---->---->----->----->----->---->---->\n",
            "\n",
            "\n",
            "French pad sequence:  [ 0  0  0  0  0  0  0  0  0  0  0  0  0  0  0  0  0  0  0  0  0  0  0  0\n",
            "  0  0  0  0  0  0  0  0  0  0  0  0  0 20  3  2  5] \n",
            "\n",
            "\n",
            "English In sequence:  [1, 14] \n",
            "\n",
            "\n",
            "English out sequence:  7 \n",
            "\n",
            "\n",
            "English In Sequence(pad sequence):  [ 0  0  0  0  0  0  0  0  0  0  0  0  0  0  0  0  0  0  0  0  0  0  0  0\n",
            "  0  0  0  0  1 14] \n",
            "\n",
            "\n",
            "English Out Sequence(categorical):  [0. 0. 0. 0. 0. 0. 0. 1. 0. 0. 0. 0. 0. 0. 0. 0. 0. 0. 0. 0. 0. 0. 0. 0.\n",
            " 0. 0. 0. 0. 0. 0.] \n",
            "\n",
            "****************************************************************************************************\n",
            "3 ---->---->----->----->----->---->---->\n",
            "\n",
            "\n",
            "French pad sequence:  [ 0  0  0  0  0  0  0  0  0  0  0  0  0  0  0  0  0  0  0  0  0  0  0  0\n",
            "  0  0  0  0  0  0  0  0  0  0  0  0  0 20  3  2  5] \n",
            "\n",
            "\n",
            "English In sequence:  [1, 14, 7] \n",
            "\n",
            "\n",
            "English out sequence:  3 \n",
            "\n",
            "\n",
            "English In Sequence(pad sequence):  [ 0  0  0  0  0  0  0  0  0  0  0  0  0  0  0  0  0  0  0  0  0  0  0  0\n",
            "  0  0  0  1 14  7] \n",
            "\n",
            "\n",
            "English Out Sequence(categorical):  [0. 0. 0. 1. 0. 0. 0. 0. 0. 0. 0. 0. 0. 0. 0. 0. 0. 0. 0. 0. 0. 0. 0. 0.\n",
            " 0. 0. 0. 0. 0. 0.] \n",
            "\n",
            "****************************************************************************************************\n",
            "4 ---->---->----->----->----->---->---->\n",
            "\n",
            "\n",
            "French pad sequence:  [ 0  0  0  0  0  0  0  0  0  0  0  0  0  0  0  0  0  0  0  0  0  0  0  0\n",
            "  0  0  0  0  0  0  0  0  0  0  0  0  0 20  3  2  5] \n",
            "\n",
            "\n",
            "English In sequence:  [1, 14, 7, 3] \n",
            "\n",
            "\n",
            "English out sequence:  2 \n",
            "\n",
            "\n",
            "English In Sequence(pad sequence):  [ 0  0  0  0  0  0  0  0  0  0  0  0  0  0  0  0  0  0  0  0  0  0  0  0\n",
            "  0  0  1 14  7  3] \n",
            "\n",
            "\n",
            "English Out Sequence(categorical):  [0. 0. 1. 0. 0. 0. 0. 0. 0. 0. 0. 0. 0. 0. 0. 0. 0. 0. 0. 0. 0. 0. 0. 0.\n",
            " 0. 0. 0. 0. 0. 0.] \n",
            "\n",
            "****************************************************************************************************\n"
          ]
        }
      ]
    },
    {
      "cell_type": "code",
      "metadata": {
        "id": "eOFikv9P1OYO",
        "colab": {
          "base_uri": "https://localhost:8080/"
        },
        "outputId": "574b30a1-5b82-4225-df40-aafcaa22bc7c"
      },
      "source": [
        "import numpy as np\n",
        "x_1_train = np.array(x_1_train)\n",
        "x_2_train = np.array(x_2_train)\n",
        "y_train = np.array(y_train)\n",
        "\n",
        "print(\"x_1_train.shape: \",np.array(x_1_train).shape)\n",
        "print(\"x_2_train.shape: \",np.array(x_2_train).shape)\n",
        "print(\"y_train.shape:   \",np.array(y_train).shape)\n",
        "\n",
        "print(\"\\nmaxlen_french: \",maxlen_french)\n",
        "print(\"maxlen_english: \",maxlen_english)"
      ],
      "execution_count": 17,
      "outputs": [
        {
          "output_type": "stream",
          "name": "stdout",
          "text": [
            "x_1_train.shape:  (658, 41)\n",
            "x_2_train.shape:  (658, 30)\n",
            "y_train.shape:    (658, 30)\n",
            "\n",
            "maxlen_french:  40\n",
            "maxlen_english:  29\n"
          ]
        }
      ]
    },
    {
      "cell_type": "code",
      "metadata": {
        "id": "FYT9A_cvXBpd"
      },
      "source": [
        "import warnings\n",
        "warnings.filterwarnings('ignore')\n",
        "\n",
        "from keras.models import Model\n",
        "from keras.layers import Input, LSTM, Dense\n",
        "from keras.layers import Embedding\n",
        "from keras.layers import Dropout\n",
        "from keras.layers.merge import add"
      ],
      "execution_count": 18,
      "outputs": []
    },
    {
      "cell_type": "code",
      "metadata": {
        "id": "DF9n1gZFt0Pt"
      },
      "source": [
        "def seq2seq_model():\n",
        "\n",
        "  inputs1 = Input(shape=(len(x_1_train[0]),))\n",
        "  fe1 = Embedding(maxlen_french+1, 256, mask_zero=True)(inputs1)\n",
        "  fe2 = Dropout(0.5)(fe1)\n",
        "  fe3 = LSTM(256)(fe2)\n",
        "  #fe4 = Dense(256, activation='relu')(fe3)\n",
        "\n",
        "  inputs2 = Input(shape=(len(x_2_train[0]),))\n",
        "  se1 = Embedding(maxlen_english+1, 256, mask_zero=True)(inputs2)\n",
        "  se2 = Dropout(0.5)(se1)\n",
        "  se3 = LSTM(256)(se2)\n",
        "\n",
        "  decoder1 = add([fe3, se3])\n",
        "  decoder2 = Dense(256, activation='relu')(decoder1)\n",
        "  outputs = Dense(maxlen_english+1, activation='softmax')(decoder2)\n",
        "\n",
        "  model = Model([inputs1, inputs2], outputs)\n",
        "  model.compile(optimizer='adam', loss='categorical_crossentropy',metrics=['accuracy'])\n",
        "  return model"
      ],
      "execution_count": 19,
      "outputs": []
    },
    {
      "cell_type": "code",
      "metadata": {
        "colab": {
          "base_uri": "https://localhost:8080/"
        },
        "id": "w_y5nBWeXJqn",
        "outputId": "76889512-4146-41e8-899f-7b6b7f6fd2fa"
      },
      "source": [
        "model = seq2seq_model()\n",
        "print(model.summary())"
      ],
      "execution_count": 20,
      "outputs": [
        {
          "output_type": "stream",
          "name": "stdout",
          "text": [
            "Model: \"model\"\n",
            "__________________________________________________________________________________________________\n",
            "Layer (type)                    Output Shape         Param #     Connected to                     \n",
            "==================================================================================================\n",
            "input_1 (InputLayer)            [(None, 41)]         0                                            \n",
            "__________________________________________________________________________________________________\n",
            "input_2 (InputLayer)            [(None, 30)]         0                                            \n",
            "__________________________________________________________________________________________________\n",
            "embedding (Embedding)           (None, 41, 256)      10496       input_1[0][0]                    \n",
            "__________________________________________________________________________________________________\n",
            "embedding_1 (Embedding)         (None, 30, 256)      7680        input_2[0][0]                    \n",
            "__________________________________________________________________________________________________\n",
            "dropout (Dropout)               (None, 41, 256)      0           embedding[0][0]                  \n",
            "__________________________________________________________________________________________________\n",
            "dropout_1 (Dropout)             (None, 30, 256)      0           embedding_1[0][0]                \n",
            "__________________________________________________________________________________________________\n",
            "lstm (LSTM)                     (None, 256)          525312      dropout[0][0]                    \n",
            "__________________________________________________________________________________________________\n",
            "lstm_1 (LSTM)                   (None, 256)          525312      dropout_1[0][0]                  \n",
            "__________________________________________________________________________________________________\n",
            "add (Add)                       (None, 256)          0           lstm[0][0]                       \n",
            "                                                                 lstm_1[0][0]                     \n",
            "__________________________________________________________________________________________________\n",
            "dense (Dense)                   (None, 256)          65792       add[0][0]                        \n",
            "__________________________________________________________________________________________________\n",
            "dense_1 (Dense)                 (None, 30)           7710        dense[0][0]                      \n",
            "==================================================================================================\n",
            "Total params: 1,142,302\n",
            "Trainable params: 1,142,302\n",
            "Non-trainable params: 0\n",
            "__________________________________________________________________________________________________\n",
            "None\n"
          ]
        }
      ]
    },
    {
      "cell_type": "code",
      "metadata": {
        "colab": {
          "base_uri": "https://localhost:8080/",
          "height": 661
        },
        "id": "_AR4nEh2Xcri",
        "outputId": "4efe1d23-acbe-45e2-d275-e4879f4906bf"
      },
      "source": [
        "tf.keras.utils.plot_model(model)"
      ],
      "execution_count": 21,
      "outputs": [
        {
          "output_type": "execute_result",
          "data": {
            "image/png": "[encoded data removed]",
            "text/plain": [
              "<IPython.core.display.Image object>"
            ]
          },
          "metadata": {},
          "execution_count": 21
        }
      ]
    },
    {
      "cell_type": "code",
      "metadata": {
        "id": "2bPyktFAPJnP"
      },
      "source": [
        "def CustomDataGenerator(data1, data2, level, batch_size = 64):\n",
        "  while True:\n",
        "    data_size = len(data1)\n",
        "    number = np.random.choice(np.array([i for i in range(data_size)]) ,size=batch_size)\n",
        "    data_1_temp,data_2_temp = [],[]\n",
        "    level_temp = []\n",
        "    for i in number:\n",
        "      data_1_temp.append(data1[i])\n",
        "      data_2_temp.append(data2[i])\n",
        "      level_temp.append(level[i])\n",
        "    yield [np.array(data_1_temp), np.array(data_2_temp)], np.array(level_temp)"
      ],
      "execution_count": 22,
      "outputs": []
    },
    {
      "cell_type": "code",
      "metadata": {
        "id": "jmmKKoKEPeTx"
      },
      "source": [
        "batch = 1\n",
        "generator = CustomDataGenerator(x_1_train, x_2_train, y_train, batch_size = batch)"
      ],
      "execution_count": 23,
      "outputs": []
    },
    {
      "cell_type": "code",
      "metadata": {
        "id": "4XgiKTySzjaI",
        "colab": {
          "base_uri": "https://localhost:8080/"
        },
        "outputId": "6ac321f4-b1fe-4980-834b-690a0131a048"
      },
      "source": [
        "with tf.device(device_name):\n",
        "  model.fit_generator(generator, epochs = 2, steps_per_epoch = len(x_1_train)//batch, validation_data = generator, validation_steps = len(x_1_train)//batch)"
      ],
      "execution_count": 24,
      "outputs": [
        {
          "output_type": "stream",
          "name": "stdout",
          "text": [
            "Epoch 1/2\n",
            "658/658 [==============================] - 221s 319ms/step - loss: 2.5885 - accuracy: 0.2629 - val_loss: 1.8773 - val_accuracy: 0.5030\n",
            "Epoch 2/2\n",
            "658/658 [==============================] - 210s 319ms/step - loss: 1.6569 - accuracy: 0.5213 - val_loss: 1.2161 - val_accuracy: 0.6565\n"
          ]
        }
      ]
    },
    {
      "cell_type": "code",
      "metadata": {
        "id": "HuL8NCbLRdvS",
        "colab": {
          "base_uri": "https://localhost:8080/",
          "height": 35
        },
        "outputId": "45677917-95c6-4d55-9d25-215166a20c7c"
      },
      "source": [
        "\"\"\"model_path = '/content/drive/My Drive/DATA_SET/Machine Translation' a\n",
        "model.save(model_path+'/machine_translation_seq2seq_3_complete_TPU_8_device.h5')\"\"\""
      ],
      "execution_count": 25,
      "outputs": [
        {
          "output_type": "execute_result",
          "data": {
            "application/vnd.google.colaboratory.intrinsic+json": {
              "type": "string"
            },
            "text/plain": [
              "\"model_path = '/content/drive/My Drive/DATA_SET/Machine Translation' a\\nmodel.save(model_path+'/machine_translation_seq2seq_3_complete_TPU_8_device.h5')\""
            ]
          },
          "metadata": {},
          "execution_count": 25
        }
      ]
    },
    {
      "cell_type": "code",
      "metadata": {
        "id": "x3jttL1vp718"
      },
      "source": [
        "import random\n",
        "mm=random.randint(0,10)"
      ],
      "execution_count": 26,
      "outputs": []
    },
    {
      "cell_type": "code",
      "metadata": {
        "id": "tqq6iOJdoVls",
        "colab": {
          "base_uri": "https://localhost:8080/"
        },
        "outputId": "1e530dc1-9107-43fe-b420-34482a189763"
      },
      "source": [
        "import time\n",
        "with tf.device(device_name):\n",
        "\n",
        "  a11 = time.time()\n",
        "  from keras.models import load_model\n",
        "  #model_1 = load_model(model_path+'/machine_translation_seq2seq_3_complete_TPU_8_device.h5')\n",
        "  model_1 = model\n",
        "\n",
        "  import random\n",
        "  from numpy import argmax\n",
        "  mm=random.randint(1000,2000)\n",
        "  sentence = french_text[mm]\n",
        "  print(\"French to english translate\\n\")\n",
        "  print(\"french: \",sentence,'\\n')\n",
        "  print('actual(english) :- ',engilsh_text[mm],'\\n\\n')\n",
        "\n",
        "  ppp=[]\n",
        "  for i in sentence:\n",
        "    if i == '':\n",
        "      ppp.append(i)\n",
        "      print(i)\n",
        "    elif len(i)>0:\n",
        "      for j in i:\n",
        "        ppp.append(j)\n",
        "\n",
        "  fra_token_1 = tokenizer_french.texts_to_sequences([ppp])\n",
        "  pad_fra_1 = pad_sequences(fra_token_1, maxlen=maxlen_french+1)\n",
        "  \n",
        "  print(pad_fra_1[0])\n",
        "  in_text = ['aaa']\n",
        "  in_text_1 = '' \n",
        "  for i in range(len(pad_fra_1[0])):\n",
        "    sequence = tokenizer_english.texts_to_sequences([in_text])[0]\n",
        "    # print(np.array(sequence).shape)\n",
        "    # print(len(x_2_train))\n",
        "    sequence = pad_sequences([sequence], maxlen=len(x_2_train[0]))\n",
        "    # print(np.array(sequence).shape)\n",
        "    yhat = model_1.predict([pad_fra_1,sequence], verbose=0)\n",
        "    yhat = argmax(yhat)\n",
        "    word = ''\n",
        "    for word_1, index in tokenizer_english.word_index.items():\n",
        "      if index == yhat:\n",
        "        word = word_1\n",
        "    if word == 'bbb':\n",
        "      break\n",
        "    in_text.append(str(word))\n",
        "    in_text_1 += word\n",
        "  print('predicted(english) :- ',in_text_1)\n",
        "  a12 = time.time()\n",
        "  print('\\ntime taken: ',a12-a11)"
      ],
      "execution_count": 27,
      "outputs": [
        {
          "output_type": "stream",
          "name": "stdout",
          "text": [
            "French to english translate\n",
            "\n",
            "french:  Vous conduisez. \n",
            "\n",
            "actual(english) :-  You drive. \n",
            "\n",
            "\n",
            "[ 0  0  0  0  0  0  0  0  0  0  0  0  0  0  0  0  0  0  0  0  0  0  0  0\n",
            "  0  0 20  6  9  7  2 12  6  8 18  9 10  7  1 15 13]\n",
            "predicted(english) :-  go o it.\n",
            "\n",
            "time taken:  3.3879899978637695\n"
          ]
        }
      ]
    },
    {
      "cell_type": "code",
      "metadata": {
        "id": "zGPlG077-E-p",
        "colab": {
          "base_uri": "https://localhost:8080/"
        },
        "outputId": "7bd60f2b-a3fd-42f6-d3ee-291d00d082c5"
      },
      "source": [
        "with tf.device(device_name):\n",
        "\n",
        "  a22 = time.time()\n",
        "  from keras.models import load_model\n",
        "  #model_1 = load_model(model_path+'/machine_translation_seq2seq_3_complete_TPU_8_device.h5')\n",
        "  model_1 = model\n",
        "\n",
        "  import random\n",
        "  from numpy import argmax\n",
        "  #mm=random.randint(1000,2000)\n",
        "  sentence = french_text[mm]\n",
        "  print('actual :- ',engilsh_text[mm],'\\n\\n')\n",
        "\n",
        "  ppp=[]\n",
        "  for i in sentence:\n",
        "    if i == '':\n",
        "      ppp.append(i)\n",
        "      print(i)\n",
        "    elif len(i)>0:\n",
        "      for j in i:\n",
        "        ppp.append(j)\n",
        "\n",
        "  fra_token_1 = tokenizer_french.texts_to_sequences([ppp])\n",
        "  pad_fra_1 = pad_sequences(fra_token_1, maxlen=maxlen_french+1)\n",
        "  \n",
        "  print(pad_fra_1[0])\n",
        "  pk = pad_fra_1[0]\n",
        "  pb = np.array([i for i in pk if i != 0])\n",
        "  print('\\n\\n',pb,'\\n\\n')\n",
        "  in_text = ['aaa']\n",
        "  in_text_1 = '' \n",
        "  for i in range(len(pb)):\n",
        "    sequence = tokenizer_english.texts_to_sequences([in_text])[0]\n",
        "    sequence = pad_sequences([sequence], maxlen=len(x_2_train[0]))\n",
        "    yhat = model_1.predict([pad_fra_1,sequence], verbose=0)\n",
        "    yhat = argmax(yhat)\n",
        "    word = ''\n",
        "    for word_1, index in tokenizer_english.word_index.items():\n",
        "      if index == yhat:\n",
        "        word = word_1\n",
        "    if word == 'bbb':\n",
        "      break\n",
        "    in_text.append(str(word))\n",
        "    in_text_1 += word\n",
        "  print('predicted :- ',in_text_1)\n",
        "  a23 = time.time()\n",
        "  print('time taken: ',a23-a22)\n"
      ],
      "execution_count": 28,
      "outputs": [
        {
          "output_type": "stream",
          "name": "stdout",
          "text": [
            "actual :-  You drive. \n",
            "\n",
            "\n",
            "[ 0  0  0  0  0  0  0  0  0  0  0  0  0  0  0  0  0  0  0  0  0  0  0  0\n",
            "  0  0 20  6  9  7  2 12  6  8 18  9 10  7  1 15 13]\n",
            "\n",
            "\n",
            " [20  6  9  7  2 12  6  8 18  9 10  7  1 15 13] \n",
            "\n",
            "\n",
            "predicted :-  go o it.\n",
            "time taken:  0.6218945980072021\n"
          ]
        }
      ]
    },
    {
      "cell_type": "code",
      "metadata": {
        "id": "a0jNiF3PpvL5"
      },
      "source": [
        ""
      ],
      "execution_count": null,
      "outputs": []
    }
  ]
}